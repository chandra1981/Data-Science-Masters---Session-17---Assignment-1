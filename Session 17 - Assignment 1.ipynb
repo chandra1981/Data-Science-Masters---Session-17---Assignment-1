{
 "cells": [
  {
   "cell_type": "markdown",
   "metadata": {},
   "source": [
    "# Problem Statement 1:\n",
    "Blood glucose levels for obese patients have a mean of 100 with a standard deviation of 15. A researcher thinks that a diet high in raw cornstarch will have a positive effect on blood glucose levels. A sample of 36 patients who have tried the raw cornstarch diet have a mean glucose level of 108. Test the hypothesis that the raw cornstarch had an\n",
    "effect or not."
   ]
  },
  {
   "cell_type": "markdown",
   "metadata": {},
   "source": [
    "Mean = 100,\n",
    "Standard deviation = 15,\n",
    "Sample size = n = 36,\n",
    "Sample mean = 108,\n",
    "\n",
    "Sample standard deviation = Standard deviation/square root of sample size = 15/6 = 2.5,\n",
    "\n",
    "Null hypothesis, H0 is Mean = 100, (means there is no impact of raw cornstarch on blood glucose level),\n",
    "Alternate hypothesis, H1 is Mean > 100, (means there is positive impact of raw cornstarch on blood glucose level),\n",
    "\n",
    "Significance level is not given in data set. So, let's assume significance level is 5% (0.05),\n",
    "\n",
    "z = (sample mean - mean)/sample standard deviation = (108-100)/2.5 = 3.20,\n",
    "\n",
    "Looking at z- table and p-value associated with 3.20, the probability is 0.9993 i.e. probability of having value less than 108 is 0.9993 and more than or equals to 108 is (1-0.9993)=0.0007. It is less than 0.05 meaning sample mean (108) falls in rejection region so we will reject the Null hypothesis i.e. there is raw cornstarch effect."
   ]
  },
  {
   "cell_type": "markdown",
   "metadata": {},
   "source": [
    "# Problem Statement 2:\n",
    "In one state, 52% of the voters are Republicans, and 48% are Democrats. In a second state, 47% of the voters are Republicans, and 53% are Democrats. Suppose a simple random sample of 100 voters are surveyed from each state.\n",
    "What is the probability that the survey will show a greater percentage of Republican voters in the second state than in the first state?"
   ]
  },
  {
   "cell_type": "markdown",
   "metadata": {},
   "source": [
    "Lets assume, P1 = the proportion of Republican voters in the first state = 52%,\n",
    "P2 = the proportion of Republican voters in the second state = 47%,\n",
    "p1 = the proportion of Republican voters in the sample from the first state,\n",
    "p2 = the proportion of Republican voters in the sample from the second state, \n",
    "\n",
    "the number of voters sampled from the first state (n1) = 100, \n",
    "the number of voters sampled from the second state (n2) = 100.\n",
    "\n",
    "The solution involves four steps.\n",
    "\n",
    "Since n1P1 = 100 * 0.52 = 52, n1(1 - P1) = 100 * 0.48 = 48, n2P2 = 100 * 0.47 = 47, and n2(1 - P2) = 100 * 0.53 = 53 are each greater than 10, the sample size is large enough. Therefore, the samples from each population are big enough to model differences with a normal distribution. \n",
    " \n",
    "The mean of the difference in sample proportions: E(p1 - p2) = P1 - P2 = 0.52 - 0.47 = 0.05.\n",
    " \n",
    "The standard deviation of the difference.\n",
    "σd = sqrt{ [ P1(1 - P1) / n1 ] + [ P2(1 - P2) / n2 ] } \n",
    "σd = sqrt{ [ (0.52)(0.48) / 100 ] + [ (0.47)(0.53) / 100 ] } \n",
    "σd = sqrt (0.002496 + 0.002491) = sqrt(0.004987) = 0.0706\n",
    "\n",
    "Now, to find the probability that p1 < p2, we can find (p1 - p2) < 0. To find this probability, we need to transform the random variable (p1 - p2) into a z-score.\n",
    "z(p1 - p2) = (x - E(p1 - p2)) / σd = (0 - 0.05)/0.0706 = -0.7082\n",
    "\n",
    "Using Stat Trek's Normal Distribution Calculator, the probability of a z-score being -0.7082 or less is 0.239,\n",
    "\n",
    "Therefore, the probability that the survey will show a greater percentage of Republican voters in the second state than in the first state is 0.239"
   ]
  },
  {
   "cell_type": "markdown",
   "metadata": {},
   "source": [
    "# Problem Statement 3:\n",
    "You take the SAT and score 1100. The mean score for the SAT is 1026 and the standard\n",
    "deviation is 209. How well did you score on the test compared to the average test taker?"
   ]
  },
  {
   "cell_type": "markdown",
   "metadata": {},
   "source": [
    "Mean SAT score = 1026,\n",
    "Standard deviation = 209,\n",
    "My SAT score = 1100,\n",
    "Difference between my SAT score and Mean SAT score = 1100 - 1026 = 74 = 0.354*Standard deviation,\n",
    "My SAT score = Mean SAT score + 0.354*Standard deviation = 1026 + 0.354*209 = 1100,\n",
    "I have scored 0.354 standard deviation better than average test taker,"
   ]
  }
 ],
 "metadata": {
  "kernelspec": {
   "display_name": "Python 3",
   "language": "python",
   "name": "python3"
  },
  "language_info": {
   "codemirror_mode": {
    "name": "ipython",
    "version": 3
   },
   "file_extension": ".py",
   "mimetype": "text/x-python",
   "name": "python",
   "nbconvert_exporter": "python",
   "pygments_lexer": "ipython3",
   "version": "3.6.5"
  }
 },
 "nbformat": 4,
 "nbformat_minor": 2
}
